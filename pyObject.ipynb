{
  "nbformat": 4,
  "nbformat_minor": 0,
  "metadata": {
    "colab": {
      "name": "pyObject.ipynb",
      "version": "0.3.2",
      "provenance": []
    },
    "kernelspec": {
      "name": "python3",
      "display_name": "Python 3"
    }
  },
  "cells": [
    {
      "metadata": {
        "id": "nE_SkMqsGnbv",
        "colab_type": "code",
        "colab": {
          "base_uri": "https://localhost:8080/",
          "height": 35
        },
        "outputId": "65c8901a-e482-496f-d6f8-48d45ff2d593"
      },
      "cell_type": "code",
      "source": [
        "print(\"Hello\")"
      ],
      "execution_count": 2,
      "outputs": [
        {
          "output_type": "stream",
          "text": [
            "Hello\n"
          ],
          "name": "stdout"
        }
      ]
    },
    {
      "metadata": {
        "id": "RaIkoqhxJk4w",
        "colab_type": "code",
        "colab": {
          "base_uri": "https://localhost:8080/",
          "height": 52
        },
        "outputId": "efdaa99f-0d54-46ba-ae96-721932efdcd0"
      },
      "cell_type": "code",
      "source": [
        "## Global Variable\n",
        "res_name=\"cha time\"\n",
        "res_owner=\"japan\"\n",
        "def re_details():\n",
        "  print(res_name,res_owner)\n",
        "def res_add():\n",
        "  res_address=\"dhaka\"\n",
        "  print(res_name,res_owner,res_address,sep=\"|\")\n",
        "re_details()\n",
        "res_add()"
      ],
      "execution_count": 1,
      "outputs": [
        {
          "output_type": "stream",
          "text": [
            "cha time japan\n",
            "cha time|japan|dhaka\n"
          ],
          "name": "stdout"
        }
      ]
    },
    {
      "metadata": {
        "id": "omKlW_qMJilu",
        "colab_type": "code",
        "colab": {
          "base_uri": "https://localhost:8080/",
          "height": 69
        },
        "outputId": "571d1b5e-7fbc-46bb-a04b-12ad0e2efc55"
      },
      "cell_type": "code",
      "source": [
        "## class Example\n",
        "\n",
        "class Rest():\n",
        "  res_name=\"\"\n",
        "  res_owner=\"\"\n",
        "  \n",
        "  def re_details(self):\n",
        "    print(self.res_name,self.res_owner)\n",
        "  \n",
        "  def det_address(self,address):\n",
        "    print(self.res_name,self.res_owner)\n",
        "    print(address)\n",
        "\n",
        "rest1=Rest()\n",
        "rest1.res_name=\"cha\"\n",
        "rest1.res_owner=\"japan\"\n",
        "rest1.det_address(\"dhaka\")\n",
        "print(type(rest1))\n"
      ],
      "execution_count": 4,
      "outputs": [
        {
          "output_type": "stream",
          "text": [
            "cha japan\n",
            "dhaka\n",
            "<class '__main__.Rest'>\n"
          ],
          "name": "stdout"
        }
      ]
    },
    {
      "metadata": {
        "id": "0FZsPIYikYmh",
        "colab_type": "code",
        "colab": {
          "base_uri": "https://localhost:8080/",
          "height": 52
        },
        "outputId": "3226d0ce-11de-4719-f2ec-01de4ddc5db3"
      },
      "cell_type": "code",
      "source": [
        "##constructor in python magic method\n",
        "\n",
        "class Resturant():\n",
        "  def __init__(self,name,owner):\n",
        "    self.name=name\n",
        "    self.owner=owner\n",
        "  def details(self):\n",
        "    print(\"From class: \",self.name,self.owner)\n",
        "\n",
        "rest2=Resturant(\"cha time\",\"japan\")\n",
        "rest2.details()\n",
        "print(rest2.name,rest2.owner,sep=\"|\")\n",
        "    \n",
        "\n"
      ],
      "execution_count": 7,
      "outputs": [
        {
          "output_type": "stream",
          "text": [
            "From class:  cha time japan\n",
            "cha time|japan\n"
          ],
          "name": "stdout"
        }
      ]
    },
    {
      "metadata": {
        "id": "OqnyHwIyrJHF",
        "colab_type": "code",
        "colab": {
          "base_uri": "https://localhost:8080/",
          "height": 69
        },
        "outputId": "93f58ca4-5501-4632-d184-ce8754935175"
      },
      "cell_type": "code",
      "source": [
        "class Resturant():\n",
        "  def __init__(self,name,owner):\n",
        "    self.name=name\n",
        "    self.owner=owner\n",
        "  def details(self):\n",
        "    print(\"From class: \",self.name,self.owner)\n",
        "    \n",
        "    \n",
        "rest_list=[]\n",
        "\n",
        "for x in range(0,3):\n",
        "  \n",
        "  rest= Resturant(\"rest \"+str(x),30+x)\n",
        "  rest_list+=[rest]\n",
        "\n",
        "for x in rest_list:\n",
        "  x.details()"
      ],
      "execution_count": 9,
      "outputs": [
        {
          "output_type": "stream",
          "text": [
            "From class:  rest 0 30\n",
            "From class:  rest 1 31\n",
            "From class:  rest 2 32\n"
          ],
          "name": "stdout"
        }
      ]
    },
    {
      "metadata": {
        "id": "8ZLlk2X7xC7n",
        "colab_type": "code",
        "colab": {
          "base_uri": "https://localhost:8080/",
          "height": 35
        },
        "outputId": "3197f11e-967a-438f-b7a2-7c26717f4903"
      },
      "cell_type": "code",
      "source": [
        "#Attribute value modification\n",
        "#direct modification\n",
        "\n",
        "class Resturant():\n",
        "  def __init__(self,name,owner):\n",
        "    self.name=name\n",
        "    self.owner=owner\n",
        "  def details(self):\n",
        "    print(\"From class: \",self.name,self.owner)\n",
        "\n",
        "rest2=Resturant(\"cha time\",\"japan\")\n",
        "rest2.name=\"chayer adda\"\n",
        "rest2.details()"
      ],
      "execution_count": 10,
      "outputs": [
        {
          "output_type": "stream",
          "text": [
            "From class:  chayer adda japan\n"
          ],
          "name": "stdout"
        }
      ]
    },
    {
      "metadata": {
        "id": "AyhAxLHKCfaw",
        "colab_type": "code",
        "colab": {
          "base_uri": "https://localhost:8080/",
          "height": 35
        },
        "outputId": "149834b2-2d83-4a81-b685-c4e6aed7f9cd"
      },
      "cell_type": "code",
      "source": [
        "#Attribute value modification\n",
        "#indirect modification via method\n",
        "\n",
        "class Resturant():\n",
        "  def __init__(self,name,owner):\n",
        "    self.name=name\n",
        "    self.owner=owner\n",
        "  def change_nam(self,name):\n",
        "    self.name=name\n",
        "  def details(self):\n",
        "    print(\"From class: \",self.name,self.owner)\n",
        "\n",
        "rest2=Resturant(\"cha time\",\"japan\")\n",
        "rest2.change_nam(\"chayer adda\")\n",
        "rest2.details()"
      ],
      "execution_count": 12,
      "outputs": [
        {
          "output_type": "stream",
          "text": [
            "From class:  chayer adda japan\n"
          ],
          "name": "stdout"
        }
      ]
    },
    {
      "metadata": {
        "id": "MpKrfzfpDIu1",
        "colab_type": "code",
        "colab": {}
      },
      "cell_type": "code",
      "source": [
        "##lifecycle\n"
      ],
      "execution_count": 0,
      "outputs": []
    },
    {
      "metadata": {
        "id": "D8lOQsgqEGDc",
        "colab_type": "code",
        "colab": {
          "base_uri": "https://localhost:8080/",
          "height": 87
        },
        "outputId": "eda6b5de-f344-45ef-c7dc-a1dff692e144"
      },
      "cell_type": "code",
      "source": [
        "##inheritence\n",
        "\n",
        "class Math:\n",
        "  def __init__(self,x,y):\n",
        "    self.x=x\n",
        "    self.y=y\n",
        "  def sum(self):\n",
        "    return self.x+self.y\n",
        "  \n",
        "class MathExt1(Math):\n",
        "  def __init__(self,x,y):\n",
        "    super().__init__(x,y)\n",
        "  def sub(self):\n",
        "    return self.x-self.y\n",
        "\n",
        "    \n",
        "    \n",
        "## multiple inheritence\n",
        "\n",
        "class MathExtra:\n",
        "  def division(self,x,y):\n",
        "    return x/y\n",
        "  \n",
        "class MathExt2(MathExt1,MathExtra):\n",
        "  \n",
        "  def __init__(self,x,y):\n",
        "    super().__init__(x,y)\n",
        "  def multi(self):\n",
        "    return self.x*self.y\n",
        "\n",
        "\n",
        "  \n",
        "#mathext=MathExt1(10,2)\n",
        "#print(mathext.sub())\n",
        "\n",
        "#math_obj=Math(2,4)\n",
        "#print(math_obj.sum())\n",
        "\n",
        "mathext2=MathExt2(10,2)\n",
        "print(\"sum: \",str(mathext2.sum()))\n",
        "print(\"sub: \",str(mathext2.sub()))\n",
        "print(\"mul: \",str(mathext2.multi()))\n",
        "\n",
        "print(\"division: \",str(mathext2.division(x=mathext2.x,y=mathext2.y)))\n",
        "\n"
      ],
      "execution_count": 18,
      "outputs": [
        {
          "output_type": "stream",
          "text": [
            "sum:  12\n",
            "sub:  8\n",
            "mul:  20\n",
            "division:  5.0\n"
          ],
          "name": "stdout"
        }
      ]
    },
    {
      "metadata": {
        "id": "PyMEAm3_Z90E",
        "colab_type": "code",
        "colab": {
          "base_uri": "https://localhost:8080/",
          "height": 52
        },
        "outputId": "9641beb4-94db-4851-b2e0-0c9ab3f3e34d"
      },
      "cell_type": "code",
      "source": [
        "##method overriding\n",
        "class Math:\n",
        "  def __init__(self,x,y):\n",
        "    self.x=x\n",
        "    self.y=y\n",
        "  def sum(self):\n",
        "    return self.x+self.y\n",
        "class MathExt1(Math):\n",
        "  def __init__(self,x,y):\n",
        "    super().__init__(x,y)\n",
        "  def sum(self):\n",
        "    return self.x+self.y+100\n",
        "  def show_all(self):\n",
        "    print(\"sum: \"+str(self.sum()))\n",
        "    print(\"sum from parents class: \"+str(super().sum()))\n",
        "    \n",
        "mathext1=MathExt1(8,2)\n",
        "mathext1.show_all()"
      ],
      "execution_count": 20,
      "outputs": [
        {
          "output_type": "stream",
          "text": [
            "sum: 110\n",
            "sum from parents class: 10\n"
          ],
          "name": "stdout"
        }
      ]
    },
    {
      "metadata": {
        "id": "yOvBSByNbXd3",
        "colab_type": "code",
        "colab": {}
      },
      "cell_type": "code",
      "source": [
        "##method overloding\n",
        "#is not acceptable by python\n",
        "#cause in python one can do with empty value in method\n"
      ],
      "execution_count": 0,
      "outputs": []
    },
    {
      "metadata": {
        "id": "6xWU77w6bvdV",
        "colab_type": "text"
      },
      "cell_type": "markdown",
      "source": [
        "there is no PRIVATE in python \n",
        "for that we can follow convention \n",
        "like before a variable we use _(underscore) so that another dev can understand it is an private variable"
      ]
    },
    {
      "metadata": {
        "id": "yvgDSPifcLU7",
        "colab_type": "code",
        "colab": {}
      },
      "cell_type": "code",
      "source": [
        ""
      ],
      "execution_count": 0,
      "outputs": []
    },
    {
      "metadata": {
        "id": "th4jBybXcPYY",
        "colab_type": "text"
      },
      "cell_type": "markdown",
      "source": [
        ""
      ]
    },
    {
      "metadata": {
        "id": "241BNxHZcV9E",
        "colab_type": "code",
        "colab": {
          "base_uri": "https://localhost:8080/",
          "height": 35
        },
        "outputId": "eca3aa99-c1be-46b5-e637-cdc62ba94d4c"
      },
      "cell_type": "code",
      "source": [
        "##class variable\n",
        "#instance variable\n",
        "class Alien:\n",
        "  legs=5  #class variable\n",
        "  \n",
        "  def __init__(self,name):\n",
        "    self.name=name  #instance variable\n",
        "    \n",
        "\n",
        "alien1=Alien('Maven')\n",
        "alien2=Alien('woven')\n",
        "\n",
        "#alien1.legs=99\n",
        "#print(alien1.legs,alien2.legs)\n",
        "\n",
        "alien1.__class__.legs=99 ##dandar class\n",
        "print(alien1.legs,alien2.legs)"
      ],
      "execution_count": 22,
      "outputs": [
        {
          "output_type": "stream",
          "text": [
            "99 99\n"
          ],
          "name": "stdout"
        }
      ]
    },
    {
      "metadata": {
        "id": "8BiSOmhtlCah",
        "colab_type": "code",
        "colab": {
          "base_uri": "https://localhost:8080/",
          "height": 52
        },
        "outputId": "3a0939c2-2429-488d-8597-1f6d1c5a9d5d"
      },
      "cell_type": "code",
      "source": [
        "## is (identity same)\n",
        "#and === useage is content same\n",
        "#object comparison\n",
        "\n",
        "x=[1,2,3]\n",
        "xx=x\n",
        "\n",
        "print(x==xx)\n",
        "print(x is xx)\n"
      ],
      "execution_count": 23,
      "outputs": [
        {
          "output_type": "stream",
          "text": [
            "True\n",
            "True\n"
          ],
          "name": "stdout"
        }
      ]
    },
    {
      "metadata": {
        "id": "w1HZloHxn3qT",
        "colab_type": "code",
        "colab": {
          "base_uri": "https://localhost:8080/",
          "height": 35
        },
        "outputId": "bb49fa2a-45e8-4af8-dbbf-7dd42bf1c68a"
      },
      "cell_type": "code",
      "source": [
        "class Person:\n",
        "  def __init__(self,name):\n",
        "    self.name=name\n",
        "  def __str__(self):\n",
        "    return f'{self.__class__.__name__} class,obj name:{self.name}'\n",
        "p1=Person('bill')\n",
        "print(p1)"
      ],
      "execution_count": 24,
      "outputs": [
        {
          "output_type": "stream",
          "text": [
            "Person class,obj name:bill\n"
          ],
          "name": "stdout"
        }
      ]
    },
    {
      "metadata": {
        "id": "g8SAcmODoh4O",
        "colab_type": "code",
        "colab": {}
      },
      "cell_type": "code",
      "source": [
        ""
      ],
      "execution_count": 0,
      "outputs": []
    }
  ]
}